{
 "cells": [
  {
   "cell_type": "markdown",
   "metadata": {},
   "source": [
    "# Portfolio optimization - Maximum Sharpe Portfolio\n",
    "\n",
    "Mean Variance Optimization solves for the optimial portfolio given a risk aversion parameter $\\gamma$. Instead of specifying a risk aversion parameter one might one to solve for the a portfolio which maximizes the Sharpe ratio (ratio of expected return in units of expected risk)\n",
    "\n",
    "In this notebook we\n",
    "1. Solve the Mean-Variance Portfolio for various values of gamma, to find the maximum Sharpe ratio portfolio\n",
    "2. Solve the Maximum Sharpe ratio portfolio directly"
   ]
  },
  {
   "cell_type": "code",
   "execution_count": 1,
   "metadata": {},
   "outputs": [],
   "source": [
    "import numpy as np\n",
    "import cvxpy as cp\n",
    "import matplotlib.pyplot as plt\n",
    "\n",
    "%matplotlib inline"
   ]
  },
  {
   "cell_type": "code",
   "execution_count": 2,
   "metadata": {},
   "outputs": [],
   "source": [
    "# Generate data for long only portfolio optimization.\n",
    "np.random.seed(1)\n",
    "n = 10\n",
    "mu = np.abs(np.random.randn(n, 1))\n",
    "Sigma = np.random.randn(n, n)\n",
    "Sigma = Sigma.T.dot(Sigma)\n",
    "\n",
    "r_free = 0.05"
   ]
  },
  {
   "cell_type": "markdown",
   "metadata": {
    "pycharm": {
     "name": "#%% md\n"
    }
   },
   "source": [
    "## Classical (Markowitz) portfolio optimization\n",
    "\n",
    "Classical (Markowitz) portfolio optimization solves the optimization problem"
   ]
  },
  {
   "cell_type": "markdown",
   "metadata": {
    "collapsed": false,
    "pycharm": {
     "name": "#%% md\n"
    }
   },
   "source": [
    "$$\n",
    "\\begin{array}{ll} \\text{maximize} & \\mu^T w - \\gamma w^T\\Sigma w\\\\\n",
    "\\text{subject to} & {\\bf 1}^T w = 1, \\quad w \\in {\\cal W},\n",
    "\\end{array}\n",
    "$$"
   ]
  },
  {
   "cell_type": "markdown",
   "metadata": {
    "collapsed": false,
    "pycharm": {
     "name": "#%% md\n"
    }
   },
   "source": [
    "where $w \\in {\\bf R}^n$ is the optimization variable, $\\cal W$ is a set of allowed portfolios (e.g., ${\\cal W} = {\\bf R}_+^n$ for a long only portfolio), and $\\gamma >0$ is the *risk aversion parameter*.\n",
    "\n",
    "The objective $\\mu^Tw - \\gamma w^T\\Sigma w$ is the *risk-adjusted return*. Varying $\\gamma$ gives the optimal *risk-return trade-off*.\n",
    "We can get the same risk-return trade-off by fixing return and minimizing risk."
   ]
  },
  {
   "cell_type": "code",
   "execution_count": 3,
   "metadata": {
    "collapsed": false,
    "pycharm": {
     "name": "#%%\n"
    }
   },
   "outputs": [],
   "source": [
    "# Long only portfolio optimization.\n",
    "w = cp.Variable(n)\n",
    "gamma = cp.Parameter(nonneg=True)\n",
    "ret = mu.T @ w\n",
    "risk = cp.quad_form(w, Sigma)\n",
    "prob_mean_variance = cp.Problem(cp.Maximize(ret - gamma * risk), [cp.sum(w) == 1])"
   ]
  },
  {
   "cell_type": "code",
   "execution_count": 4,
   "metadata": {},
   "outputs": [],
   "source": [
    "SAMPLES = 100\n",
    "risk_data = np.zeros(SAMPLES)\n",
    "ret_data = np.zeros(SAMPLES)\n",
    "gamma_vals = np.logspace(-1, 2, num=SAMPLES)\n",
    "w_data = np.zeros((SAMPLES,n))\n",
    "for i in range(SAMPLES):\n",
    "    gamma.value = gamma_vals[i]\n",
    "    prob_mean_variance.solve()\n",
    "    risk_data[i] = cp.sqrt(risk).value\n",
    "    ret_data[i] = ret.value[0]\n",
    "    w_data[i] = w.value\n"
   ]
  },
  {
   "cell_type": "code",
   "execution_count": 5,
   "metadata": {},
   "outputs": [
    {
     "data": {
      "text/plain": [
       "Text(0, 0.5, 'Sharpe ratio')"
      ]
     },
     "execution_count": 5,
     "metadata": {},
     "output_type": "execute_result"
    },
    {
     "data": {
      "image/png": "[encoded data removed]",
      "text/plain": [
       "<Figure size 640x480 with 1 Axes>"
      ]
     },
     "metadata": {},
     "output_type": "display_data"
    }
   ],
   "source": [
    "sharpe_data = (ret_data-r_free)/risk_data\n",
    "max_i = np.argmax(sharpe_data)\n",
    "plt.plot(gamma_vals, sharpe_data)\n",
    "plt.xscale('log')\n",
    "plt.xlabel('gamma')\n",
    "plt.ylabel('Sharpe ratio')"
   ]
  },
  {
   "cell_type": "markdown",
   "metadata": {},
   "source": [
    "## Maximum Sharpe Ratio Portfolio\n",
    "\n",
    "The maximum Sharpe ratio optimization solve the problem\n",
    "\n",
    "$$\n",
    "\\begin{array}{ll} \\text{maximize} & \\frac{\\mu^T x - r_{f}}{\\sqrt{x^T\\Sigma x}}\\\\\n",
    "\\text{subject to} & {\\bf 1}^T x = 1\n",
    "\\end{array}\n",
    "$$\n",
    "\n",
    "In this current form this is a non-convex problem. However we can use an auxiliary parameter $\\kappa$ and solve a related problem in terms of $y = x\\kappa$\n",
    "\n",
    "\n",
    "$$\n",
    "\\begin{array}{ll} \\text{minimize} & y^T\\Sigma y\\\\\n",
    "\\text{subject to} & ({r-r_f})^T y = 1\\\\\n",
    "& {\\bf{1}}^T y = \\kappa\n",
    "\\end{array}\n",
    "$$\n",
    "The optimal portfolio is $x^* = \\frac{y^*}{\\kappa}$\n",
    "\n",
    "\n",
    "Links\n",
    "* https://quant.stackexchange.com/questions/39594/maximize-sharpe-ratio-in-portfolio-optimization\n",
    "* https://quant.stackexchange.com/questions/39137/how-can-i-find-the-portfolio-with-maximum-sharpe-ratio-using-lagrange-multipli\n"
   ]
  },
  {
   "cell_type": "code",
   "execution_count": 6,
   "metadata": {},
   "outputs": [],
   "source": [
    "y = cp.Variable(n)\n",
    "kappa = cp.Variable(1)\n",
    "risk_y = cp.quad_form(y, Sigma)\n",
    "prob_max_sharpe = cp.Problem(cp.Minimize(risk_y),[(mu - r_free).T @ y==1,cp.sum(y)==kappa ])\n",
    "prob_max_sharpe.solve()\n",
    "\n",
    "x = y.value/kappa.value\n",
    "\n",
    "max_sharpe = 1/np.sqrt(risk_y.value)"
   ]
  },
  {
   "cell_type": "markdown",
   "metadata": {},
   "source": [
    "Max Sharpe Ratio Solution"
   ]
  },
  {
   "cell_type": "code",
   "execution_count": 7,
   "metadata": {},
   "outputs": [
    {
     "data": {
      "text/plain": [
       "(2.6362178656800963,\n",
       " array([ 0.093, -0.091,  0.288,  0.109,  0.025,  0.193,  0.092,  0.013,\n",
       "         0.121,  0.156]))"
      ]
     },
     "execution_count": 7,
     "metadata": {},
     "output_type": "execute_result"
    }
   ],
   "source": [
    "max_sharpe, np.round(x,3)"
   ]
  },
  {
   "cell_type": "markdown",
   "metadata": {},
   "source": [
    "Best Mean-Variance Solution"
   ]
  },
  {
   "cell_type": "code",
   "execution_count": 8,
   "metadata": {},
   "outputs": [
    {
     "data": {
      "text/plain": [
       "(2.6360151469107675,\n",
       " array([ 0.091, -0.092,  0.284,  0.112,  0.028,  0.197,  0.093,  0.011,\n",
       "         0.121,  0.155]))"
      ]
     },
     "execution_count": 8,
     "metadata": {},
     "output_type": "execute_result"
    }
   ],
   "source": [
    "sharpe_data[max_i], np.round(w_data[max_i],3)"
   ]
  },
  {
   "cell_type": "markdown",
   "metadata": {},
   "source": [
    "## Special Case: Diagonal Matrix"
   ]
  },
  {
   "cell_type": "code",
   "execution_count": 9,
   "metadata": {},
   "outputs": [],
   "source": [
    "Sigma_diag = np.diag(np.diag(Sigma))"
   ]
  },
  {
   "cell_type": "markdown",
   "metadata": {},
   "source": [
    "## Analytical solution:\n",
    "\n",
    "$$ w_i \\sim \\frac{(r_i-r_f)}{\\sigma_i^2} = \\frac{sr_i}{\\sigma_i} $$\n",
    "\n",
    "The portfolio Sharpe Ratio is the L2 norm of the individual Sharpe Ratios\n",
    "\n",
    "$$ sr_P = \\sqrt{\\sum_i sr_i^2} $$\n",
    "\n",
    "Link: https://quant.stackexchange.com/questions/63944/optimise-the-sharpe-ratio-of-a-portfolio-of-uncorrelated-assets"
   ]
  },
  {
   "cell_type": "code",
   "execution_count": 10,
   "metadata": {},
   "outputs": [],
   "source": [
    "sharpe_ratios = (mu[:,0]-r_free)/np.sqrt(np.diag(Sigma_diag))\n",
    "w_diag = sharpe_ratios/np.sqrt(np.diag(Sigma_diag))\n",
    "w_diag = w_diag/w_diag.sum()"
   ]
  },
  {
   "cell_type": "code",
   "execution_count": 11,
   "metadata": {},
   "outputs": [
    {
     "data": {
      "text/plain": [
       "1.47880186597961"
      ]
     },
     "execution_count": 11,
     "metadata": {},
     "output_type": "execute_result"
    }
   ],
   "source": [
    "port_sharpe = np.sqrt((sharpe_ratios**2).sum())\n",
    "port_sharpe"
   ]
  },
  {
   "cell_type": "code",
   "execution_count": 12,
   "metadata": {},
   "outputs": [],
   "source": [
    "y_diag = cp.Variable(n)\n",
    "kappa_diag = cp.Variable(1)\n",
    "risk_y_diag = cp.quad_form(y_diag, Sigma_diag)\n",
    "prob_max_sharpe_diag = cp.Problem(cp.Minimize(risk_y_diag),[(mu - r_free).T @ y_diag==1,cp.sum(y_diag)==kappa_diag ])\n",
    "prob_max_sharpe_diag.solve()\n",
    "\n",
    "x_diag = y_diag.value/kappa_diag.value\n",
    "\n",
    "max_sharpe_diag = 1/np.sqrt(risk_y_diag.value)"
   ]
  },
  {
   "cell_type": "code",
   "execution_count": 13,
   "metadata": {},
   "outputs": [
    {
     "data": {
      "text/plain": [
       "(1.47880186597961,\n",
       " array([0.12050461, 0.03559165, 0.07825948, 0.11036125, 0.11903948,\n",
       "        0.21756976, 0.23786194, 0.04094803, 0.02077194, 0.01909183]))"
      ]
     },
     "execution_count": 13,
     "metadata": {},
     "output_type": "execute_result"
    }
   ],
   "source": [
    "max_sharpe_diag, x_diag"
   ]
  },
  {
   "cell_type": "code",
   "execution_count": 14,
   "metadata": {},
   "outputs": [
    {
     "data": {
      "text/plain": [
       "array([0.12050461, 0.03559165, 0.07825948, 0.11036125, 0.11903948,\n",
       "       0.21756976, 0.23786194, 0.04094803, 0.02077194, 0.01909183])"
      ]
     },
     "execution_count": 14,
     "metadata": {},
     "output_type": "execute_result"
    }
   ],
   "source": [
    "w_diag"
   ]
  }
 ],
 "metadata": {
  "kernelspec": {
   "display_name": "Python 3",
   "language": "python",
   "name": "python3"
  },
  "language_info": {
   "codemirror_mode": {
    "name": "ipython",
    "version": 3
   },
   "file_extension": ".py",
   "mimetype": "text/x-python",
   "name": "python",
   "nbconvert_exporter": "python",
   "pygments_lexer": "ipython3",
   "version": "3.10.12"
  }
 },
 "nbformat": 4,
 "nbformat_minor": 1
}
